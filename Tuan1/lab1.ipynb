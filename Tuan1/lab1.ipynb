{
 "cells": [
  {
   "cell_type": "code",
   "execution_count": null,
   "metadata": {},
   "outputs": [],
   "source": [
    "import numpy as np\n",
    "import matplotlib.pyplot as plt"
   ]
  },
  {
   "cell_type": "code",
   "execution_count": null,
   "metadata": {},
   "outputs": [],
   "source": [
    "X = np.array([\n",
    "    180, 162, 183, 174, 160, 163, 180,\n",
    "    165, 175, 170, 170, 169, 168, 175,\n",
    "    169, 171, 155, 158, 175, 165\n",
    "]).reshape(-1, 1)\n",
    "\n",
    "y = np.array([\n",
    "    86, 55, 86.5, 70, 62, 54, 60,\n",
    "    72, 93, 89, 60, 82, 59, 75,\n",
    "    56, 89, 45, 60, 60, 72\n",
    "]).reshape(-1, 1)"
   ]
  },
  {
   "cell_type": "code",
   "execution_count": null,
   "metadata": {},
   "outputs": [],
   "source": [
    "\n",
    "X = np.insert(X, 0, 1, axis=1)\n",
    "\n",
    "theta = np.linalg.inv(X.T @ X) @ X.T @ y\n",
    "\n",
    "x1 = 150\n",
    "x2 = 190\n",
    "y1 = theta[0] + theta[1] * x1\n",
    "y2 = theta[0] + theta[1] * x2"
   ]
  },
  {
   "cell_type": "code",
   "execution_count": null,
   "metadata": {},
   "outputs": [],
   "source": [
    "plt.plot([x1, x2], [y1, y2], 'r-', label='Đường hồi quy')\n",
    "plt.scatter(X[:, 1], y, color='blue', label='Dữ liệu thực tế')\n",
    "plt.xlabel('Chiều cao (cm)')\n",
    "plt.ylabel('Cân nặng (kg)')\n",
    "plt.title('Chiều cao và cân nặng của sinh viên VIU')\n",
    "plt.legend()\n",
    "plt.grid()\n",
    "plt.show()"
   ]
  }
 ],
 "metadata": {
  "language_info": {
   "name": "python"
  }
 },
 "nbformat": 4,
 "nbformat_minor": 2
}
