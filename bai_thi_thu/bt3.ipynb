{
 "cells": [
  {
   "cell_type": "code",
   "execution_count": 1,
   "metadata": {},
   "outputs": [
    {
     "name": "stdout",
     "output_type": "stream",
     "text": [
      "Gini Impurity của tập dữ liệu là: 0.5\n"
     ]
    }
   ],
   "source": [
    "# Đọc đoạn code này\n",
    "import numpy as np\n",
    "\n",
    "def gini_impurity(y):\n",
    "    unique_classes, counts = np.unique(y, return_counts=True)\n",
    "    probabilities = counts / len(y)  \n",
    "    return 1 - np.sum(probabilities ** 2)  \n",
    "\n",
    "y = np.array([0, 1, 0, 1, 1, 0, 0, 1])\n",
    "gini = gini_impurity(y)\n",
    "print(\"Gini Impurity của tập dữ liệu là:\", gini)"
   ]
  }
 ],
 "metadata": {
  "kernelspec": {
   "display_name": "Python 3",
   "language": "python",
   "name": "python3"
  },
  "language_info": {
   "codemirror_mode": {
    "name": "ipython",
    "version": 3
   },
   "file_extension": ".py",
   "mimetype": "text/x-python",
   "name": "python",
   "nbconvert_exporter": "python",
   "pygments_lexer": "ipython3",
   "version": "3.11.0"
  }
 },
 "nbformat": 4,
 "nbformat_minor": 2
}
