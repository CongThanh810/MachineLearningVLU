{
 "cells": [
  {
   "cell_type": "code",
   "execution_count": null,
   "metadata": {},
   "outputs": [
    {
     "name": "stdout",
     "output_type": "stream",
     "text": [
      "Khoảng cách Euclidean giữa (1, 2, 3) và (4, 5, 6) là: 5.20\n"
     ]
    }
   ],
   "source": [
    "import math\n",
    "\n",
    "def euclidean_distance(x, y):\n",
    "    distance = math.sqrt(sum((a - b) ** 2 for a, b in zip(x, y)))\n",
    "    return distance\n",
    "x = (1, 2, 3)\n",
    "y = (4, 5, 6)\n",
    "distance = euclidean_distance(x, y)\n",
    "print(f\"Khoảng cách Euclidean giữa {x} và {y} là: {distance:.2f}\")"
   ]
  }
 ],
 "metadata": {
  "kernelspec": {
   "display_name": "Python 3",
   "language": "python",
   "name": "python3"
  },
  "language_info": {
   "codemirror_mode": {
    "name": "ipython",
    "version": 3
   },
   "file_extension": ".py",
   "mimetype": "text/x-python",
   "name": "python",
   "nbconvert_exporter": "python",
   "pygments_lexer": "ipython3",
   "version": "3.11.0"
  }
 },
 "nbformat": 4,
 "nbformat_minor": 2
}
